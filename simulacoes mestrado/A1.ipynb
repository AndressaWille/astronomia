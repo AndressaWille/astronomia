{
 "cells": [
  {
   "cell_type": "markdown",
   "id": "dfbe9c71-b87e-4f82-aae1-a74206b5f623",
   "metadata": {},
   "source": [
    "Notebook para o cálculo de A1"
   ]
  },
  {
   "cell_type": "code",
   "execution_count": 9,
   "id": "76fbcae9-b26c-4993-b6ec-ca11e9cdb792",
   "metadata": {},
   "outputs": [],
   "source": [
    "import matplotlib.pyplot as plt\n",
    "import h5py\n",
    "import numpy as np\n",
    "from scipy import stats\n",
    "import math\n",
    "from matplotlib.ticker import MultipleLocator\n",
    "from mpl_toolkits.axes_grid1 import make_axes_locatable\n",
    "from scipy.signal import savgol_filter\n",
    "from bar_funcs import *"
   ]
  },
  {
   "cell_type": "code",
   "execution_count": 13,
   "id": "6b01bb55-c834-4deb-abff-9d865a9c13de",
   "metadata": {},
   "outputs": [],
   "source": [
    "plt.rcParams['figure.figsize'  ] = (3.4,2.0)\n",
    "plt.rcParams['font.size'       ] = 8\n",
    "plt.rcParams['legend.fontsize' ] = 8\n",
    "plt.rcParams['legend.frameon'  ] = False\n",
    "plt.rcParams['font.family'     ] = 'STIXGeneral'\n",
    "plt.rcParams['mathtext.fontset'] = 'stix'\n",
    "plt.rcParams['xtick.direction' ] = 'in'\n",
    "plt.rcParams['ytick.direction' ] = 'in'\n",
    "plt.rcParams['xtick.top'       ] = True\n",
    "plt.rcParams['ytick.right'     ] = True\n",
    "plt.rcParams['xtick.major.size'] = 2\n",
    "plt.rcParams['xtick.minor.size'] = 1\n",
    "plt.rcParams['ytick.major.size'] = 2\n",
    "plt.rcParams['ytick.minor.size'] = 1\n",
    "plt.rcParams['xtick.major.width'] = 0.75\n",
    "plt.rcParams['xtick.minor.width'] = 0.5\n",
    "plt.rcParams['ytick.major.width'] = 0.75\n",
    "plt.rcParams['ytick.minor.width'] = 0.5"
   ]
  },
  {
   "cell_type": "markdown",
   "id": "5a490fd0-96bd-45ba-97af-e40cb4bb2b83",
   "metadata": {},
   "source": [
    "Galáxia barrada isolada ou com satélites"
   ]
  },
  {
   "cell_type": "code",
   "execution_count": 10,
   "id": "5e33a8e0-fb0d-47c2-8ad6-27746d8b5ee6",
   "metadata": {},
   "outputs": [],
   "source": [
    "#path = 'barrada/'\n",
    "path = 'satelites/sat1-30/'\n",
    "paths1 = [path]"
   ]
  },
  {
   "cell_type": "code",
   "execution_count": 11,
   "id": "923288f9-efa7-4270-bf29-5c8301b15503",
   "metadata": {},
   "outputs": [],
   "source": [
    "#n_snapshots_ = 281\n",
    "n_snapshots_ = 121"
   ]
  },
  {
   "cell_type": "code",
   "execution_count": 12,
   "id": "d017d320-2a02-46af-82ff-767c5eda7dde",
   "metadata": {},
   "outputs": [],
   "source": [
    "time = np.empty(n_snapshots_)"
   ]
  },
  {
   "cell_type": "code",
   "execution_count": 14,
   "id": "5a0e83b2-0fad-499b-b650-1e1038e78954",
   "metadata": {},
   "outputs": [
    {
     "name": "stdout",
     "output_type": "stream",
     "text": [
      "CPU times: user 33min 36s, sys: 42.9 s, total: 34min 19s\n",
      "Wall time: 33min 36s\n"
     ]
    }
   ],
   "source": [
    "%%time\n",
    "for p, path in enumerate(paths1):\n",
    "\n",
    "    for j in range (0, n_snapshots_):\n",
    "        index = str(j).zfill(3)\n",
    "        snapshot = path + f'snapshot_{index}.hdf5'\n",
    "\n",
    "        #ler snapshot\n",
    "        f = h5py.File(snapshot, 'r')\n",
    "        \n",
    "        if p == 0:\n",
    "            time[j] = 0.0 + round(f['Header'].attrs['Time'], 2)\n",
    "\n",
    "        #ler info disco e corrigir posição - centro de massa\n",
    "        f_disk = f['PartType2']\n",
    "\n",
    "        x_disk = np.array(f_disk['Coordinates'][:,0])\n",
    "        y_disk = np.array(f_disk['Coordinates'][:,1])\n",
    "        z_disk = np.array(f_disk['Coordinates'][:,2])\n",
    "        m_disk = np.array(f_disk['Masses'])\n",
    "        vx_disk = np.array(f_disk['Velocities'][:,0])\n",
    "        vy_disk = np.array(f_disk['Velocities'][:,1])\n",
    "        vz_disk = np.array(f_disk['Velocities'][:,2])\n",
    "        Ndisk = len(np.array(f_disk['ParticleIDs']))\n",
    "                   \n",
    "        x_new_disk, y_new_disk, z_new_disk = shift_com(m=m_disk, x=x_disk, y=y_disk, z=z_disk)\n",
    "        vx_new_disk, vy_new_disk, vz_new_disk = shift_com(m_disk, vx_disk, vy_disk, vz_disk)\n",
    "\n",
    "        #corrigir posição - momento angular\n",
    "        theta, phi = theta_phi(N=Ndisk, x=x_new_disk, y=y_new_disk, z=z_new_disk, vx=vx_new_disk,\n",
    "                           vy=vy_new_disk, vz=vz_new_disk, m=m_disk)\n",
    "    \n",
    "        x, y, vx, vy = angular_momentum_1(N=Ndisk, x=x_new_disk, y=y_new_disk, vx=vx_new_disk,\n",
    "                                      vy=vy_new_disk, theta=theta)\n",
    "   \n",
    "        x, z, vx, vz = angular_momentum_2(N=Ndisk, x=x, z=z_new_disk, vx=vx, vz=vz_new_disk, phi=phi)\n",
    "        \n",
    "        #calcular A1\n",
    "        if p == 0:\n",
    "            A1, r = A1_warp(m=m_disk, x=x, y=y, z=z, Rmax=30.0, Nbins=30, n_snapshots=n_snapshots_)  \n",
    "            out = transpose([A1,r])\n",
    "            header = f't={time[j]} \\n A1       r'\n",
    "            savetxt(path + 'a1/' + f'a1-{j}.txt', out, fmt='%1.6e', header=header)"
   ]
  },
  {
   "cell_type": "code",
   "execution_count": 21,
   "id": "aa4ba404-cefc-4fb6-a1d3-680bb91d58ea",
   "metadata": {},
   "outputs": [
    {
     "data": {
      "image/png": "[encoded data removed]",
      "text/plain": [
       "<Figure size 340x200 with 2 Axes>"
      ]
     },
     "metadata": {},
     "output_type": "display_data"
    }
   ],
   "source": [
    "Qlist = []\n",
    "\n",
    "for j in range (0, n_snapshots_):\n",
    "    doc = path + 'a1/'+ f'a1-{j}.txt'\n",
    "    A1, R = np.loadtxt(doc, unpack=True)\n",
    "    Qlist.append(A1)\n",
    "\n",
    "Qlist = np.transpose(Qlist)\n",
    "    \n",
    "tmin = min(time) + 8.0\n",
    "tmax = max(time) + 8.0\n",
    "\n",
    "Rmin = 0\n",
    "Rmax = 30\n",
    "   \n",
    "fig, ax = plt.subplots(nrows=1, ncols=1)\n",
    "extent = [tmin, tmax, Rmin, Rmax]\n",
    "im = plt.imshow(Qlist, extent=extent, origin='lower', vmin=0.0, vmax=3.0, cmap='viridis', \n",
    "                interpolation='nearest', aspect='auto')\n",
    "\n",
    "cb = plt.colorbar(im, ax=ax, shrink=1.0, aspect=18, pad=0.03)\n",
    "cb.set_label(r'$A_1$ (kpc)')\n",
    "\n",
    "ax.set_xlabel(r'$t$ (Gyr)')\n",
    "ax.set_ylabel(r'$R$ (kpc)')\n",
    "\n",
    "ax.set_xlim(tmin, tmax)\n",
    "ax.set_ylim(Rmin, Rmax)\n",
    "\n",
    "title = 'Barred galaxy + satellite ' + r'$M=1 \\times 10^{10}\\mathrm{{M}_\\odot}, \\,r=30 \\, \\mathrm{kpc}$'\n",
    "#title = 'Isolated barred galaxy'\n",
    "ax.set_title(title)\n",
    "\n",
    "fig.tight_layout(pad=0.1)    \n",
    "\n",
    "plt.savefig('testea1.png', dpi=300)"
   ]
  },
  {
   "cell_type": "markdown",
   "id": "c7a19d0d-bab1-4d2a-a716-897cdd0cb281",
   "metadata": {},
   "source": [
    "Galáxia teste sem gás"
   ]
  },
  {
   "cell_type": "code",
   "execution_count": 5,
   "id": "5554a165-a7ee-4e9e-8552-bca3c8fda736",
   "metadata": {},
   "outputs": [],
   "source": [
    "path = 'satelites/teste-nogas-05-20/'\n",
    "paths2 = [path]"
   ]
  },
  {
   "cell_type": "code",
   "execution_count": 6,
   "id": "077299c5-bbc1-4e56-bfda-706da4a104be",
   "metadata": {},
   "outputs": [],
   "source": [
    "n_snapshots = 121"
   ]
  },
  {
   "cell_type": "code",
   "execution_count": 7,
   "id": "83aeb955-8430-4015-b193-f69b6aca76f0",
   "metadata": {},
   "outputs": [],
   "source": [
    "time = np.empty(n_snapshots)"
   ]
  },
  {
   "cell_type": "code",
   "execution_count": 38,
   "id": "1401b622-5183-4592-9fc1-eb554ddc7132",
   "metadata": {},
   "outputs": [
    {
     "name": "stdout",
     "output_type": "stream",
     "text": [
      "CPU times: user 32min 52s, sys: 22.3 s, total: 33min 14s\n",
      "Wall time: 33min 18s\n"
     ]
    }
   ],
   "source": [
    "%%time\n",
    "for p, path in enumerate(paths2):\n",
    "\n",
    "    for j in range (0, n_snapshots):\n",
    "        index = str(j).zfill(3)\n",
    "        snapshot = path + f'snapshot_{index}.hdf5'\n",
    "\n",
    "        #ler snapshot\n",
    "        f = h5py.File(snapshot, 'r')\n",
    "        \n",
    "        if p == 0:\n",
    "            time[j] = 0.0 + round(f['Header'].attrs['Time'], 2)\n",
    "\n",
    "        #ler info disco e corrigir posição\n",
    "        f_disk = f['PartType2']\n",
    "\n",
    "        x_disk = np.array(f_disk['Coordinates'][:,0])\n",
    "        y_disk = np.array(f_disk['Coordinates'][:,1])\n",
    "        z_disk = np.array(f_disk['Coordinates'][:,2])\n",
    "        m_disk = np.array(f_disk['Masses'])\n",
    "        vx_disk = np.array(f_disk['Velocities'][:,0])\n",
    "        vy_disk = np.array(f_disk['Velocities'][:,1])\n",
    "        vz_disk = np.array(f_disk['Velocities'][:,2])\n",
    "        Ndisk = len(np.array(f_disk['ParticleIDs']))\n",
    "                   \n",
    "        x_new_disk, y_new_disk, z_new_disk = shift_com(m=m_disk, x=x_disk, y=y_disk, z=z_disk)\n",
    "        vx_new_disk, vy_new_disk, vz_new_disk = shift_com(m=m_disk, x=vx_disk, y=vy_disk, z=vz_disk)\n",
    "\n",
    "        #corrigir posição - momento angular\n",
    "        theta, phi = theta_phi(N=Ndisk, x=x_new_disk, y=y_new_disk, z=z_new_disk, vx=vx_new_disk,\n",
    "                           vy=vy_new_disk, vz=vz_new_disk, m=m_disk)\n",
    "    \n",
    "        x, y, vx, vy = angular_momentum_1(N=Ndisk, x=x_new_disk, y=y_new_disk, vx=vx_new_disk,\n",
    "                                      vy=vy_new_disk, theta=theta)\n",
    "   \n",
    "        x, z, vx, vz = angular_momentum_2(N=Ndisk, x=x, z=z_new_disk, vx=vx, vz=vz_new_disk, phi=phi)\n",
    "\n",
    "        #calcular A1\n",
    "        if p == 0:\n",
    "            A1, r = A1_warp(m=m_disk, x=x, y=y, z=z, Rmax=30.0, Nbins=30, n_snapshots=n_snapshots_)  \n",
    "            out = transpose([A1,r])\n",
    "            header = f't={time[j]} \\n A1       r'\n",
    "            savetxt(path + 'a1/' + f'a1-{j}.txt', out, fmt='%1.6e', header=header)"
   ]
  },
  {
   "cell_type": "code",
   "execution_count": 39,
   "id": "6c621d5d-6507-46eb-937b-9e5c1a00940f",
   "metadata": {},
   "outputs": [
    {
     "data": {
      "image/png": "[encoded data removed]",
      "text/plain": [
       "<Figure size 340x200 with 2 Axes>"
      ]
     },
     "metadata": {},
     "output_type": "display_data"
    }
   ],
   "source": [
    "Qlist = []\n",
    "\n",
    "for j in range (0, n_snapshots):\n",
    "    doc = path + 'a1/'+ f'a1-{j}.txt'\n",
    "    A1, R = np.loadtxt(doc, unpack=True)\n",
    "    Qlist.append(A1)\n",
    "\n",
    "Qlist = np.transpose(Qlist)\n",
    "    \n",
    "tmin = 8\n",
    "tmax = 14\n",
    "\n",
    "Rmin = 0\n",
    "Rmax = 30\n",
    "\n",
    "# Qmin = Qlist.min()\n",
    "# Qmax = Qlist.max()\n",
    "   \n",
    "fig, ax = plt.subplots(nrows=1, ncols=1)\n",
    "\n",
    "extent = [tmin, tmax, Rmin, Rmax]\n",
    "   \n",
    "im = plt.imshow(Qlist, extent=extent, origin='lower', vmin=0.0, vmax=1.0, cmap='viridis', \n",
    "                interpolation='nearest', aspect='auto')\n",
    "\n",
    "cb = plt.colorbar(im, ax=ax, shrink=1.0, aspect=18, pad=0.03)\n",
    "cb.set_label(r'$A_1$ (kpc)')\n",
    "\n",
    "ax.set_xlabel(r'$t$ (Gyr)')\n",
    "ax.set_ylabel(r'$R$ (kpc)')\n",
    "\n",
    "ax.set_xlim(tmin, tmax)\n",
    "ax.set_ylim(Rmin, Rmax)\n",
    "\n",
    "ax.set_title('Non-barred galaxy (no gas) + ' + r'$M=0.5 \\times 10^{10}\\mathrm{{M}_\\odot}, \\,r=20 \\, \\mathrm{kpc}$')\n",
    "\n",
    "fig.tight_layout(pad=0.1)    \n",
    "\n",
    "plt.savefig('a1-teste-nogas.png', dpi=300)"
   ]
  },
  {
   "cell_type": "markdown",
   "id": "7b056944-efe2-4e3f-a8a2-737b9197ff14",
   "metadata": {},
   "source": [
    "Galáxia não barrada isolada ou com satélites"
   ]
  },
  {
   "cell_type": "code",
   "execution_count": 14,
   "id": "fb96d9c5-1aa6-4fac-b285-3554e6c129f2",
   "metadata": {},
   "outputs": [],
   "source": [
    "#path = 'n_barrada/'\n",
    "path = 'satelites/nb-sat1-30/'\n",
    "paths1 = [path]"
   ]
  },
  {
   "cell_type": "code",
   "execution_count": 15,
   "id": "d5706010-2ff7-4c7e-a9eb-f19b17c12d5a",
   "metadata": {},
   "outputs": [],
   "source": [
    "#n_snapshots_ = 281\n",
    "n_snapshots_ = 121"
   ]
  },
  {
   "cell_type": "code",
   "execution_count": 16,
   "id": "8172e5aa-b4b8-4a49-9bfa-bc2f9ead72df",
   "metadata": {},
   "outputs": [],
   "source": [
    "time = np.empty(n_snapshots_)"
   ]
  },
  {
   "cell_type": "code",
   "execution_count": 8,
   "id": "44a1d2ea-8e12-4959-8f55-4f905d670f9a",
   "metadata": {},
   "outputs": [
    {
     "name": "stdout",
     "output_type": "stream",
     "text": [
      "CPU times: user 58min 47s, sys: 1min 2s, total: 59min 50s\n",
      "Wall time: 1h 49s\n"
     ]
    }
   ],
   "source": [
    "%%time\n",
    "for p, path in enumerate(paths1):\n",
    "\n",
    "    for j in range (0, n_snapshots_): \n",
    "        index = str(j).zfill(3)\n",
    "        snapshot = path + f'snapshot_{index}.hdf5'\n",
    "\n",
    "        #ler snapshot\n",
    "        f = h5py.File(snapshot, 'r')\n",
    "\n",
    "        if p == 0:\n",
    "            time[j] = 0.0 + round(f['Header'].attrs['Time'], 2)\n",
    "\n",
    "        #ler info disco e stars e corrigir posição\n",
    "        f_disk = f['PartType2']\n",
    "\n",
    "        x_disk = np.array(f_disk['Coordinates'][:,0])\n",
    "        y_disk = np.array(f_disk['Coordinates'][:,1])\n",
    "        z_disk = np.array(f_disk['Coordinates'][:,2])\n",
    "        vx_disk = np.array(f_disk['Velocities'][:,0])\n",
    "        vy_disk = np.array(f_disk['Velocities'][:,1])\n",
    "        vz_disk = np.array(f_disk['Velocities'][:,2])\n",
    "        m_disk = np.array(f_disk['Masses'])\n",
    "        Ndisk = len(np.array(f_disk['ParticleIDs']))\n",
    "                   \n",
    "        x_new_disk, y_new_disk, z_new_disk = shift_com(m=m_disk, x=x_disk, y=y_disk, z=z_disk)\n",
    "        vx_new_disk, vy_new_disk, vz_new_disk = shift_com(m_disk, vx_disk, vy_disk, vz_disk)\n",
    "\n",
    "        #corrigir posição - momento angular - disk\n",
    "        theta, phi = theta_phi(N=Ndisk, x=x_new_disk, y=y_new_disk, z=z_new_disk, vx=vx_new_disk,\n",
    "                               vy=vy_new_disk, vz=vz_new_disk, m=m_disk)\n",
    "        \n",
    "        x, y, vx, vy = angular_momentum_1(N=Ndisk, x=x_new_disk, y=y_new_disk, vx=vx_new_disk,\n",
    "                                          vy=vy_new_disk, theta=theta)\n",
    "       \n",
    "        x, z, vx, vz = angular_momentum_2(N=Ndisk, x=x, z=z_new_disk, vx=vx, vz=vz_new_disk, phi=phi)\n",
    "        \n",
    "        if j == 0:\n",
    "            m_star = 0\n",
    "            x_new_star = 0\n",
    "            y_new_star = 0\n",
    "            z_new_star = 0\n",
    "            vx_new_star = 0\n",
    "            vy_new_star = 0\n",
    "            vz_new_star = 0\n",
    "            \n",
    "        else:\n",
    "            f_star = f['PartType4']\n",
    "\n",
    "            x_star = np.array(f_star['Coordinates'][:,0])\n",
    "            y_star = np.array(f_star['Coordinates'][:,1])\n",
    "            z_star = np.array(f_star['Coordinates'][:,2])\n",
    "            vx_star = np.array(f_star['Velocities'][:,0])\n",
    "            vy_star = np.array(f_star['Velocities'][:,1])\n",
    "            vz_star = np.array(f_star['Velocities'][:,2])\n",
    "            m_star = np.array(f_star['Masses'])\n",
    "            Nstar = len(np.array(f_star['ParticleIDs']))\n",
    "\n",
    "            x_new_star, y_new_star, z_new_star = shift_com(m=m_star, x=x_star, y=y_star, z=z_star)\n",
    "            vx_new_star, vy_new_star, vz_new_star = shift_com(m_star, vx_star, vy_star, vz_star)\n",
    "\n",
    "            #corrigir posição - momento angular - stars\n",
    "            theta_s, phi_s = theta_phi(N=Nstar, x=x_new_star, y=y_new_star, z=z_new_star, vx=vx_new_star,\n",
    "                                       vy=vy_new_star, vz=vz_new_star, m=m_star)\n",
    "        \n",
    "            x_s, y_s, vx_s, vy_s = angular_momentum_1(N=Nstar, x=x_new_star, y=y_new_star, vx=vx_new_star,\n",
    "                                                  vy=vy_new_star, theta=theta_s)\n",
    "        \n",
    "            x_s, z_s, vx_s, vz_s = angular_momentum_2(N=Nstar, x=x_s, z=z_new_star, vx=vx_s, vz=vz_new_star,\n",
    "                                                          phi=phi_s)\n",
    "        #juntar disk + stars\n",
    "        if j == 0:\n",
    "            m_tot = m_disk\n",
    "            x_tot = x\n",
    "            y_tot = y\n",
    "            z_tot = z\n",
    "            vx_tot = vx\n",
    "            vy_tot = vy\n",
    "            vz_tot = vz\n",
    "        \n",
    "        else:\n",
    "            x_tot = np.concatenate((x, x_s))\n",
    "            y_tot = np.concatenate((y, y_s))\n",
    "            z_tot = np.concatenate((z, z_s))\n",
    "            vx_tot = np.concatenate((vx, vx_s))\n",
    "            vy_tot = np.concatenate((vy, vy_s))\n",
    "            vz_tot = np.concatenate((vz, vz_s))\n",
    "            m_tot = np.concatenate((m_disk, m_star))\n",
    "\n",
    "        #calcular força da barra\n",
    "        if p == 0:\n",
    "            A1, r = A1_warp(m=m_tot, x=x_tot, y=y_tot, z=z_tot, Rmax=30.0, Nbins=30,\n",
    "                            n_snapshots=n_snapshots_)  \n",
    "            out = transpose([A1,r])\n",
    "            header = f't={time[j]} \\n A1       r'\n",
    "            savetxt(path + 'a1/' + f'a1-{j}-nb.txt', out, fmt='%1.6e', header=header)   "
   ]
  },
  {
   "cell_type": "code",
   "execution_count": 17,
   "id": "bca9dd7f-915d-499c-97eb-4c7b68431269",
   "metadata": {},
   "outputs": [
    {
     "data": {
      "image/png": "[encoded data removed]",
      "text/plain": [
       "<Figure size 340x200 with 2 Axes>"
      ]
     },
     "metadata": {},
     "output_type": "display_data"
    }
   ],
   "source": [
    "Qlist = []\n",
    "\n",
    "for j in range (0, n_snapshots_):\n",
    "    doc = path + 'a1/'+ f'a1-{j}-nb.txt'\n",
    "    A1, R = np.loadtxt(doc, unpack=True)\n",
    "    Qlist.append(A1)\n",
    "\n",
    "Qlist = np.transpose(Qlist)\n",
    "    \n",
    "tmin = 8\n",
    "tmax = 14\n",
    "\n",
    "Rmin = 0\n",
    "Rmax = 30\n",
    "   \n",
    "fig, ax = plt.subplots(nrows=1, ncols=1)\n",
    "\n",
    "extent = [tmin, tmax, Rmin, Rmax]\n",
    "   \n",
    "im = plt.imshow(Qlist, extent=extent, origin='lower', vmin=0.0, vmax=3.0, cmap='viridis', \n",
    "                interpolation='nearest', aspect='auto')\n",
    "\n",
    "cb = plt.colorbar(im, ax=ax, shrink=1.0, aspect=18, pad=0.03)\n",
    "cb.set_label(r'$A_1$ (kpc)')\n",
    "\n",
    "ax.set_xlabel(r'$t$ (Gyr)')\n",
    "#ax.set_xticks([0.0, 2.0, 4.0, 6.0, 8.0, 10.0, 12.0, 14.0])\n",
    "ax.set_ylabel(r'$R$ (kpc)')\n",
    "\n",
    "ax.set_xlim(tmin, tmax)\n",
    "ax.set_ylim(Rmin, Rmax)\n",
    "\n",
    "title = '  Non-barred galaxy + satellite ' + r'$M=1 \\times 10^{10}\\mathrm{{M}_\\odot}, \\,r=30 \\, \\mathrm{kpc}$'\n",
    "ax.set_title(title, fontsize=8)\n",
    "\n",
    "fig.tight_layout(pad=0.1)    \n",
    "\n",
    "plt.savefig('a1-nb-1-30.png', dpi=300)"
   ]
  },
  {
   "cell_type": "code",
   "execution_count": null,
   "id": "0f7f32b6-9fe4-4b5b-9e88-aeeb34fd1669",
   "metadata": {},
   "outputs": [],
   "source": []
  }
 ],
 "metadata": {
  "kernelspec": {
   "display_name": "Python 3 (ipykernel)",
   "language": "python",
   "name": "python3"
  },
  "language_info": {
   "codemirror_mode": {
    "name": "ipython",
    "version": 3
   },
   "file_extension": ".py",
   "mimetype": "text/x-python",
   "name": "python",
   "nbconvert_exporter": "python",
   "pygments_lexer": "ipython3",
   "version": "3.11.6"
  }
 },
 "nbformat": 4,
 "nbformat_minor": 5
}
