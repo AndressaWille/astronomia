{
 "cells": [
  {
   "cell_type": "markdown",
   "id": "84bafd21-10b1-469a-a4fa-33ec960d0bf4",
   "metadata": {},
   "source": [
    "### Galáxias barradas e interações 1\n",
    "\n",
    "Este notebook possui cálculos para melhor caracterizar galáxias barradas interagindo com um satélite (galáxia anã). Os cálculos aqui apresentados são de: velocidade circular do satélite, centro de massa. Algumas funções importadas estão escritas em bar_funcs.py\n",
    "\n",
    "Andressa Wille, 27/04/2023"
   ]
  },
  {
   "cell_type": "markdown",
   "id": "8fbb6071-d0c8-4feb-adbf-b768a9619595",
   "metadata": {},
   "source": [
    "Aqui estamos usando:\n",
    "\n",
    "    - Galáxia com 75% de gás relaxado com SF e 20% de bojo\n",
    "    - Galáxia sem gás, com 20% de bojo\n",
    "    \n",
    "    +\n",
    "    \n",
    "    - Galáxias anãs satélites\n",
    "    \n",
    "com massas $ M = 1 \\times 10^{10}\\mathrm{{M}_\\odot}, M = 0.5 \\times 10^{10}\\mathrm{{M}_\\odot}, M = 0.1 \\times 10^{10}\\mathrm{{M}_\\odot}$ e raios orbitais de $r = 10 \\, \\mathrm{kpc}, r = 20 \\, \\mathrm{kpc}, r = 30 \\, \\mathrm{kpc}$."
   ]
  },
  {
   "cell_type": "code",
   "execution_count": 1,
   "id": "484effc3-5c2c-4c8f-a217-1d9475bdb2cb",
   "metadata": {
    "tags": []
   },
   "outputs": [],
   "source": [
    "import matplotlib.pyplot as plt\n",
    "import h5py\n",
    "import numpy as np\n",
    "from scipy import stats\n",
    "import math\n",
    "from bar_funcs import *\n",
    "from matplotlib.ticker import MultipleLocator\n",
    "from mpl_toolkits.axes_grid1 import make_axes_locatable"
   ]
  },
  {
   "cell_type": "code",
   "execution_count": 2,
   "id": "8735bd4b-9c77-4c04-b330-427c730d1f24",
   "metadata": {},
   "outputs": [],
   "source": [
    "plt.rc('text', usetex=True)\n",
    "plt.rcParams['font.size'] = 15"
   ]
  },
  {
   "cell_type": "markdown",
   "id": "8780ce45-9865-424d-aae7-4f48704ad409",
   "metadata": {},
   "source": [
    " "
   ]
  },
  {
   "cell_type": "code",
   "execution_count": 3,
   "id": "352450de-7537-4379-b2de-50b1148c0322",
   "metadata": {},
   "outputs": [],
   "source": [
    "#caminhos\n",
    "path_nogas = 'snapshotJoiner/snapshot_160_b.hdf5'\n",
    "path_gas = 'snapshotJoiner/snapshot_160_nb.hdf5'\n",
    "paths = [path_nogas, path_gas]"
   ]
  },
  {
   "cell_type": "code",
   "execution_count": 4,
   "id": "35c177d9-1f46-43dc-a1fa-1e4e33c5002a",
   "metadata": {},
   "outputs": [],
   "source": [
    "n_snapshots = 281"
   ]
  },
  {
   "cell_type": "code",
   "execution_count": 5,
   "id": "16df35bf-54e5-4560-8568-49b7382d4909",
   "metadata": {},
   "outputs": [],
   "source": [
    "#arrays para tempo\n",
    "time_20 = np.empty(n_snapshots)\n",
    "time_75r = np.empty(n_snapshots)"
   ]
  },
  {
   "cell_type": "code",
   "execution_count": 6,
   "id": "7c74ebda-a034-40fc-bb6d-153df2b48309",
   "metadata": {},
   "outputs": [],
   "source": [
    "#arrays para velocidade circular\n",
    "v_c_disk_75r = r_disk_75r = np.empty(n_snapshots)\n",
    "v_c_halo_75r = r_halo_75r = np.empty(n_snapshots)\n",
    "v_c_gas_75r = r_gas_75r = np.empty(n_snapshots)\n",
    "v_c_star_75r = r_star_75r = np.empty(n_snapshots)\n",
    "v_c_bulge_75r = r_bulge_75r = np.empty(n_snapshots)\n",
    "\n",
    "v_c_disk_20 = r_disk_20 = np.empty(n_snapshots)\n",
    "v_c_halo_20 = r_halo_20 = np.empty(n_snapshots)\n",
    "v_c_bulge_20 = r_bulge_20 = np.empty(n_snapshots)"
   ]
  },
  {
   "cell_type": "markdown",
   "id": "3f8cbd0c-1894-40d0-a8bd-89021542f01b",
   "metadata": {},
   "source": [
    "velocidade circular"
   ]
  },
  {
   "cell_type": "code",
   "execution_count": 7,
   "id": "c55eff06-75fc-451b-93d5-a6ebfcdbca8e",
   "metadata": {},
   "outputs": [],
   "source": [
    "for p, path in enumerate(paths):\n",
    "    snapshot = path #8 Gyr\n",
    "\n",
    "    #ler snapshot\n",
    "    f = h5py.File(snapshot, 'r')\n",
    "    \n",
    "    #ler info disco\n",
    "    f_disk = f['PartType2']\n",
    "\n",
    "    x_disk = np.array(f_disk['Coordinates'][:,0])\n",
    "    y_disk = np.array(f_disk['Coordinates'][:,1])\n",
    "    z_disk = np.array(f_disk['Coordinates'][:,2])\n",
    "    m_disk = np.array(f_disk['Masses'])\n",
    "    \n",
    "    #ler info halo\n",
    "    f_halo = f['PartType1']\n",
    "\n",
    "    x_halo = np.array(f_halo['Coordinates'][:,0])\n",
    "    y_halo = np.array(f_halo['Coordinates'][:,1])\n",
    "    z_halo = np.array(f_halo['Coordinates'][:,2])\n",
    "    m_halo = np.array(f_halo['Masses'])\n",
    "    \n",
    "    #corrigir posição\n",
    "    x_new_disk, y_new_disk, z_new_disk = shift_com(m_disk, x_disk, y_disk, z_disk)\n",
    "    x_new_halo, y_new_halo, z_new_halo = shift_com(m_halo, x_halo, y_halo, z_halo)\n",
    "    \n",
    "    #ler info bojo\n",
    "    f_bulge = f['PartType3']\n",
    "\n",
    "    x_bulge = np.array(f_bulge['Coordinates'][:,0])\n",
    "    y_bulge = np.array(f_bulge['Coordinates'][:,1])\n",
    "    z_bulge = np.array(f_bulge['Coordinates'][:,2])\n",
    "    m_bulge = np.array(f_bulge['Masses'])\n",
    "    \n",
    "    #corrigir posição\n",
    "    x_new_bulge, y_new_bulge, z_new_bulge = shift_com(m_bulge, x_bulge, y_bulge, z_bulge)\n",
    "\n",
    "    #se a galáxia também tem gás e estrelas:\n",
    "    if p == 1:\n",
    "\n",
    "        #ler info gas\n",
    "        f_gas = f['PartType0']\n",
    "\n",
    "        x_gas = np.array(f_gas['Coordinates'][:,0])\n",
    "        y_gas = np.array(f_gas['Coordinates'][:,1])\n",
    "        z_gas = np.array(f_gas['Coordinates'][:,2])\n",
    "        m_gas = np.array(f_gas['Masses'])\n",
    "        \n",
    "        x_new_gas, y_new_gas, z_new_gas = shift_com(m_gas, x_gas, y_gas, z_gas)\n",
    "        \n",
    "        #ler info estrelas se o snapshot não for 0\n",
    "        f_star = f['PartType4']\n",
    "\n",
    "        x_star = np.array(f_star['Coordinates'][:,0])\n",
    "        y_star = np.array(f_star['Coordinates'][:,1])\n",
    "        z_star = np.array(f_star['Coordinates'][:,2])\n",
    "        m_star = np.array(f_star['Masses'])\n",
    "        \n",
    "        #corrigir posição\n",
    "        x_new_star, y_new_star, z_new_star = shift_com(m_star, x_star, y_star, z_star)\n",
    "        \n",
    "\n",
    "    #calcular velocidade circular\n",
    "    G = 43007.1\n",
    "    if p == 0:\n",
    "        v_c_disk_20, r_disk_20, M_r_disk_20 = v_circ_comp(m=m_disk, x=x_new_disk, y=y_new_disk, \n",
    "                                                          z=z_new_disk, Rmax=40.0, Nbins=80)\n",
    "        v_c_halo_20, r_halo_20, M_r_halo_20 = v_circ_comp(m=m_halo, x=x_new_halo, y=y_new_halo, \n",
    "                                                     z=z_new_halo, Rmax=40.0, Nbins=80)\n",
    "        v_c_bulge_20, r_bulge_20, M_r_bulge_20 = v_circ_comp(m=m_bulge, x=x_new_bulge, y=y_new_bulge, \n",
    "                                                     z=z_new_bulge, Rmax=40.0, Nbins=80)\n",
    "        \n",
    "        M_r_tot_20 = (M_r_disk_20 + M_r_halo_20+M_r_bulge_20)\n",
    "        v_c_20 = (np.sqrt(G*M_r_tot_20/r_disk_20))\n",
    "        \n",
    "    if p == 1:\n",
    "        v_c_disk_75r, r_disk_75r, M_r_disk_75r = v_circ_comp(m=m_disk, x=x_new_disk, y=y_new_disk, \n",
    "                                                          z=z_new_disk, Rmax=40.0, Nbins=80)\n",
    "        v_c_halo_75r, r_halo_75r, M_r_halo_75r = v_circ_comp(m=m_halo, x=x_new_halo, y=y_new_halo, \n",
    "                                                     z=z_new_halo, Rmax=40.0, Nbins=80)\n",
    "        v_c_bulge_75r, r_bulge_75r, M_r_bulge_75r = v_circ_comp(m=m_bulge, x=x_new_bulge, y=y_new_bulge, \n",
    "                                                     z=z_new_bulge, Rmax=40.0, Nbins=80)\n",
    "        v_c_gas_75r, r_gas_75r, M_r_gas_75r = v_circ_comp(m=m_gas, x=x_new_gas, y=y_new_gas, \n",
    "                                                     z=z_new_gas, Rmax=40.0, Nbins=80)\n",
    "        v_c_star_75r, r_star_75r, M_r_star_75r = v_circ_comp(m=m_star, x=x_new_star, y=y_new_star,\n",
    "                                                             z=z_new_star, Rmax=40.0, Nbins=80)\n",
    "        \n",
    "        #M_r_tot_75r = (M_r_disk_75r + M_r_halo_75r + M_r_bulge_75r + M_r_gas_75r)\n",
    "        M_r_tot_75r = (M_r_disk_75r + M_r_halo_75r + M_r_bulge_75r + M_r_gas_75r + M_r_star_75r)\n",
    "        v_c_75r = (np.sqrt(G*M_r_tot_75r/r_disk_75r))"
   ]
  },
  {
   "cell_type": "code",
   "execution_count": 8,
   "id": "51bd9c7d-29a0-4367-bc48-20920bca7c49",
   "metadata": {},
   "outputs": [
    {
     "name": "stdout",
     "output_type": "stream",
     "text": [
      "Galáxia não barrada:\n",
      "Se r = 12 kpc, v = 165.11 km/s\n",
      "Se r = 20 kpc, v = 171.13 km/s\n",
      "Se r = 30 kpc, v = 169.21 km/s\n"
     ]
    }
   ],
   "source": [
    "print('Galáxia não barrada:')\n",
    "raio10 = np.where(r_disk_75r == 10.0)\n",
    "vel10 = round(float(v_c_75r[raio10]),2)\n",
    "print(f'Se r = 12 kpc, v = {vel10} km/s')\n",
    "\n",
    "raio20 = np.where(r_disk_75r == 20.0)\n",
    "vel20 = round(float(v_c_75r[raio20]),2)\n",
    "print(f'Se r = 20 kpc, v = {vel20} km/s')\n",
    "\n",
    "raio30 = np.where(r_disk_75r == 30.0)\n",
    "vel30 = round(float(v_c_75r[raio30]),2)\n",
    "print(f'Se r = 30 kpc, v = {vel30} km/s')"
   ]
  },
  {
   "cell_type": "code",
   "execution_count": 9,
   "id": "aea53d74-aadc-4950-87af-650bed4e95eb",
   "metadata": {},
   "outputs": [
    {
     "name": "stdout",
     "output_type": "stream",
     "text": [
      "Galáxia barrada:\n",
      "Se r = 10 kpc, v = 166.2 km/s\n",
      "Se r = 20 kpc, v = 171.0 km/s\n",
      "Se r = 30 kpc, v = 168.81 km/s\n"
     ]
    }
   ],
   "source": [
    "print('Galáxia barrada:')\n",
    "raio10b = np.where(r_disk_20 == 10.0)\n",
    "vel10b = round(float(v_c_20[raio10b]),2)\n",
    "print(f'Se r = 10 kpc, v = {vel10b} km/s')\n",
    "\n",
    "raio20b = np.where(r_disk_20 == 20.0)\n",
    "vel20b = round(float(v_c_20[raio20b]),2)\n",
    "print(f'Se r = 20 kpc, v = {vel20b} km/s')\n",
    "\n",
    "raio30b = np.where(r_disk_20 == 30.0)\n",
    "vel30b = round(float(v_c_20[raio30b]),2)\n",
    "print(f'Se r = 30 kpc, v = {vel30b} km/s')"
   ]
  },
  {
   "cell_type": "code",
   "execution_count": 10,
   "id": "f27c6755-2a74-4a5b-aec7-120644c4570f",
   "metadata": {},
   "outputs": [],
   "source": [
    "r = [r_disk_20, r_disk_75r]\n",
    "v_c_disk = [v_c_disk_20, v_c_disk_75r]\n",
    "v_c_halo = [v_c_halo_20, v_c_halo_75r]\n",
    "v_c_bulge = [v_c_bulge_20, v_c_bulge_75r]\n",
    "v_c_gas = [0, v_c_gas_75r]\n",
    "v_c_star = [0, v_c_star_75r]\n",
    "v_c = [v_c_20, v_c_75r]"
   ]
  },
  {
   "cell_type": "code",
   "execution_count": 11,
   "id": "8f04dfbe-aa86-41b0-a345-72529703cc2b",
   "metadata": {},
   "outputs": [
    {
     "data": {
      "image/png": "[encoded data removed]",
      "text/plain": [
       "<Figure size 432x432 with 1 Axes>"
      ]
     },
     "metadata": {
      "needs_background": "light"
     },
     "output_type": "display_data"
    },
    {
     "data": {
      "image/png": "[encoded data removed]",
      "text/plain": [
       "<Figure size 432x432 with 1 Axes>"
      ]
     },
     "metadata": {
      "needs_background": "light"
     },
     "output_type": "display_data"
    }
   ],
   "source": [
    "for i in range (0, 2):\n",
    "    if i == 0:\n",
    "        plt.figure(figsize=[6,6])\n",
    "        plt.plot(r[i], v_c_disk[i], color='aqua', lw=3, label='disk')\n",
    "        plt.plot(r[i], v_c_halo[i], color='yellow', lw=3, label='halo')\n",
    "        plt.plot(r[i], v_c_bulge[i], color='darkgreen', lw=3, label='bulge')\n",
    "        plt.plot(r[i], v_c[i], color='red', lw=3, label='total')\n",
    "        plt.xlabel('$R$ (kpc)', fontsize=15)\n",
    "        plt.ylabel('$v_c$ (km/s)', fontsize=15)\n",
    "        plt.legend(frameon=False)\n",
    "        plt.ylim(0, 270)\n",
    "    \n",
    "        text ='no gas, $20\\%$ bulge\\n $t=8$ Gyr'\n",
    "        plt.text(10, 240, text, fontsize=15)\n",
    "        \n",
    "        plt.vlines(10, 0, vel10b, 'darkgrey', linestyles='dotted')\n",
    "        plt.annotate(f'{vel10b}\\n km/s', xy=(6, vel10b+10), fontsize=12, color='darkgrey')\n",
    "        plt.vlines(20, 0, vel20b, 'darkgrey', linestyles='dotted')\n",
    "        plt.annotate(f'{vel20b}\\n km/s', xy=(18, vel20b+10), fontsize=12, color='darkgrey')\n",
    "        plt.vlines(30, 0, vel30b, 'darkgrey', linestyles='dotted')\n",
    "        plt.annotate(f'{vel30b}\\n km/s', xy=(29, vel30b+10), fontsize=12, color='darkgrey')\n",
    "\n",
    "    if i == 1:\n",
    "        plt.figure(figsize=[6,6])\n",
    "        plt.plot(r[i], v_c_disk[i], color='aqua', lw=3, label='disk')\n",
    "        plt.plot(r[i], v_c_halo[i], color='yellow', lw=3, label='halo')\n",
    "        plt.plot(r[i], v_c_bulge[i], color='darkgreen', lw=3, label='bulge')\n",
    "        plt.plot(r[i], v_c_gas[i], color='magenta', lw=3, label='gas')\n",
    "        plt.plot(r[i], v_c_star[i], color='purple', lw=3, label='stars')\n",
    "        plt.plot(r[i], v_c[i], color='red', lw=3, label='total')\n",
    "        plt.xlabel('$R$ (kpc)', fontsize=15)\n",
    "        plt.ylabel('$v_c$ (km/s)', fontsize=15)\n",
    "        plt.legend(frameon=False)\n",
    "        plt.ylim(0, 270)\n",
    "    \n",
    "        text ='$75\\%$ gas, $20\\%$ bulge\\n $t=8$ Gyr'\n",
    "        plt.text(10, 240, text, fontsize=15)\n",
    "        \n",
    "        plt.vlines(10, 0, vel10, 'darkgrey', linestyles='dotted')\n",
    "        plt.annotate(f'{vel10}\\n km/s', xy=(6, vel10+10), fontsize=12, color='darkgrey')\n",
    "        plt.vlines(20, 0, vel20, 'darkgrey', linestyles='dotted')\n",
    "        plt.annotate(f'{vel20}\\n km/s', xy=(18, vel20+10), fontsize=12, color='darkgrey')\n",
    "        plt.vlines(30, 0, vel30, 'darkgrey', linestyles='dotted')\n",
    "        plt.annotate(f'{vel30}\\n km/s', xy=(29, vel30+10), fontsize=12, color='darkgrey')\n",
    "\n",
    "    \n",
    "    plt.tight_layout()\n",
    "    #plt.savefig(f'vc_sat{i}.png')"
   ]
  },
  {
   "cell_type": "markdown",
   "id": "02da40f5-7993-4313-ab98-b00e450c7ed2",
   "metadata": {},
   "source": [
    "check centro de massa"
   ]
  },
  {
   "cell_type": "code",
   "execution_count": 12,
   "id": "8c2f35d6-3fd0-4986-b2aa-d1c8993523cc",
   "metadata": {},
   "outputs": [
    {
     "name": "stdout",
     "output_type": "stream",
     "text": [
      "Centro de massa da galáxia barrada em 8.0 Gyr:\n",
      "x = -8.956934749448919e-08 kpc\n",
      "y = 4.4784673747244597e-08 kpc\n",
      "z = -6.57774847923065e-08 kpc\n",
      "vx = 1.5525353092016303e-06 km/s\n",
      "vy = -9.554063353789388e-07 km/s\n",
      "vz = 5.4581320796387445e-08 km/s \n",
      "\n",
      "Centro de massa da galáxia não barrada em 8.0 Gyr:\n",
      "x = 7.464114659683219e-09 kpc\n",
      "y = 8.956936881077127e-08 kpc\n",
      "z = 0.0 kpc\n",
      "vx = 0.0 km/s\n",
      "vy = -1.194258345549315e-07 km/s\n",
      "vz = 1.6421051896031713e-07 km/s \n",
      "\n"
     ]
    }
   ],
   "source": [
    "for p, path in enumerate(paths):\n",
    "    snapshot = path #'snapshot_000.hdf5'\n",
    "\n",
    "    #ler snapshot\n",
    "    f = h5py.File(snapshot, 'r')\n",
    "    \n",
    "    time = round(f['Header'].attrs['Time'], 2)\n",
    "    \n",
    "    #ler info disco e calcular COM\n",
    "    f_disk = f['PartType2']\n",
    "\n",
    "    x_disk = np.array(f_disk['Coordinates'][:,0])\n",
    "    y_disk = np.array(f_disk['Coordinates'][:,1])\n",
    "    z_disk = np.array(f_disk['Coordinates'][:,2])\n",
    "    m_disk = np.array(f_disk['Masses'])\n",
    "    \n",
    "    cm_x, cm_y, cm_z = com(m=m_disk, x=x_disk, y=y_disk, z=z_disk)\n",
    "    \n",
    "    vx_disk = np.array(f_disk['Velocities'][:,0])\n",
    "    vy_disk = np.array(f_disk['Velocities'][:,1])\n",
    "    vz_disk = np.array(f_disk['Velocities'][:,2])\n",
    "    \n",
    "    cm_vx, cm_vy, cm_vz = com(m=m_disk, x=vx_disk, y=vy_disk, z=vz_disk)\n",
    "    \n",
    "    if p == 0:\n",
    "        print(f'Centro de massa da galáxia barrada em {time} Gyr:')\n",
    "        print(f'x = {cm_x} kpc\\ny = {cm_y} kpc\\nz = {cm_z} kpc')\n",
    "        print(f'vx = {cm_vx} km/s\\nvy = {cm_vy} km/s\\nvz = {cm_vz} km/s \\n')\n",
    "    if p == 1:\n",
    "        print(f'Centro de massa da galáxia não barrada em {time} Gyr:')\n",
    "        print(f'x = {cm_x} kpc\\ny = {cm_y} kpc\\nz = {cm_z} kpc')\n",
    "        print(f'vx = {cm_vx} km/s\\nvy = {cm_vy} km/s\\nvz = {cm_vz} km/s \\n')"
   ]
  },
  {
   "cell_type": "code",
   "execution_count": null,
   "id": "8e4a6625-4bfc-48a3-ad7d-0c9d101d75ab",
   "metadata": {},
   "outputs": [],
   "source": []
  },
  {
   "cell_type": "code",
   "execution_count": null,
   "id": "12036ed4-7838-4982-acb5-75b5b0036072",
   "metadata": {},
   "outputs": [],
   "source": []
  },
  {
   "cell_type": "code",
   "execution_count": null,
   "id": "5ac9a425-62f8-4c2e-b5ff-654700e3e7d2",
   "metadata": {},
   "outputs": [],
   "source": []
  }
 ],
 "metadata": {
  "kernelspec": {
   "display_name": "Python 3 (ipykernel)",
   "language": "python",
   "name": "python3"
  },
  "language_info": {
   "codemirror_mode": {
    "name": "ipython",
    "version": 3
   },
   "file_extension": ".py",
   "mimetype": "text/x-python",
   "name": "python",
   "nbconvert_exporter": "python",
   "pygments_lexer": "ipython3",
   "version": "3.11.4"
  }
 },
 "nbformat": 4,
 "nbformat_minor": 5
}
