{
 "cells": [
  {
   "cell_type": "code",
   "execution_count": 28,
   "id": "d5029081",
   "metadata": {},
   "outputs": [],
   "source": [
    "import h5py\n",
    "import numpy as np"
   ]
  },
  {
   "cell_type": "code",
   "execution_count": 29,
   "id": "5317149a",
   "metadata": {},
   "outputs": [],
   "source": [
    "#Lendo snapshot do Gadget4 com h5py em r+ (escrita e leitura)\n",
    "#file = h5py.File('snapshot_160_b.hdf5', 'r+')\n",
    "file = h5py.File('snapshot_160_nb.hdf5', 'r+')"
   ]
  },
  {
   "cell_type": "code",
   "execution_count": 30,
   "id": "09b692fb",
   "metadata": {},
   "outputs": [
    {
     "data": {
      "text/plain": [
       "<KeysViewHDF5 ['Config', 'Header', 'Parameters', 'PartType0', 'PartType1', 'PartType2', 'PartType3', 'PartType4']>"
      ]
     },
     "execution_count": 30,
     "metadata": {},
     "output_type": "execute_result"
    }
   ],
   "source": [
    "file.keys()"
   ]
  },
  {
   "cell_type": "code",
   "execution_count": 32,
   "id": "1523d187-a5a4-4b28-bec1-b549b591048b",
   "metadata": {},
   "outputs": [],
   "source": [
    "f_gas = file['PartType0']\n",
    "f_halo = file['PartType1']\n",
    "f_disk = file['PartType2']\n",
    "f_bulge = file['PartType3']\n",
    "f_star = file['PartType4']"
   ]
  },
  {
   "cell_type": "code",
   "execution_count": 38,
   "id": "7d796fa6-352f-4700-9b47-7fb8eacd23a2",
   "metadata": {},
   "outputs": [],
   "source": [
    "#Alterações"
   ]
  },
  {
   "cell_type": "code",
   "execution_count": 34,
   "id": "fb686448-193a-4018-8cbe-35c87dbe6eab",
   "metadata": {},
   "outputs": [],
   "source": [
    "def shift_com(m, x, y, z):\n",
    "    \n",
    "    cm_x = sum(m*x)/sum(m)\n",
    "    cm_y = sum(m*y)/sum(m)\n",
    "    cm_z = sum(m*z)/sum(m)\n",
    "\n",
    "    x_new = x - cm_x\n",
    "    y_new = y - cm_y\n",
    "    z_new = z - cm_z\n",
    "    \n",
    "    return x_new, y_new, z_new"
   ]
  },
  {
   "cell_type": "code",
   "execution_count": 35,
   "id": "585f73ff-4040-41ab-8c82-4b9ef04080c1",
   "metadata": {},
   "outputs": [],
   "source": [
    "#disk\n",
    "x_disk = np.array(f_disk['Coordinates'][:,0])\n",
    "y_disk = np.array(f_disk['Coordinates'][:,1])\n",
    "z_disk = np.array(f_disk['Coordinates'][:,2])\n",
    "vx_disk = np.array(f_disk['Velocities'][:,0])\n",
    "vy_disk = np.array(f_disk['Velocities'][:,1])\n",
    "vz_disk = np.array(f_disk['Velocities'][:,2])\n",
    "m_disk = np.array(f_disk['Masses'])\n",
    "                   \n",
    "x_new_disk, y_new_disk, z_new_disk = shift_com(m=m_disk, x=x_disk, y=y_disk, z=z_disk)\n",
    "vx_new_disk, vy_new_disk, vz_new_disk = shift_com(m=m_disk, x=vx_disk, y=vy_disk, z=vz_disk)\n",
    "\n",
    "#halo\n",
    "x_halo = np.array(f_halo['Coordinates'][:,0])\n",
    "y_halo = np.array(f_halo['Coordinates'][:,1])\n",
    "z_halo = np.array(f_halo['Coordinates'][:,2])\n",
    "vx_halo = np.array(f_halo['Velocities'][:,0])\n",
    "vy_halo = np.array(f_halo['Velocities'][:,1])\n",
    "vz_halo = np.array(f_halo['Velocities'][:,2])\n",
    "m_halo = np.array(f_halo['Masses'])\n",
    "                   \n",
    "x_new_halo, y_new_halo, z_new_halo = shift_com(m=m_halo, x=x_halo, y=y_halo, z=z_halo)\n",
    "vx_new_halo, vy_new_halo, vz_new_halo = shift_com(m=m_halo, x=vx_halo, y=vy_halo, z=vz_halo)\n",
    "\n",
    "#bulge\n",
    "x_bulge = np.array(f_bulge['Coordinates'][:,0])\n",
    "y_bulge = np.array(f_bulge['Coordinates'][:,1])\n",
    "z_bulge = np.array(f_bulge['Coordinates'][:,2])\n",
    "vx_bulge = np.array(f_bulge['Velocities'][:,0])\n",
    "vy_bulge = np.array(f_bulge['Velocities'][:,1])\n",
    "vz_bulge = np.array(f_bulge['Velocities'][:,2])\n",
    "m_bulge = np.array(f_bulge['Masses'])\n",
    "                   \n",
    "x_new_bulge, y_new_bulge, z_new_bulge = shift_com(m=m_bulge, x=x_bulge, y=y_bulge, z=z_bulge)\n",
    "vx_new_bulge, vy_new_bulge, vz_new_bulge = shift_com(m=m_bulge, x=vx_bulge, y=vy_bulge, z=vz_bulge)\n",
    "\n",
    "#star\n",
    "x_star = np.array(f_star['Coordinates'][:,0])\n",
    "y_star = np.array(f_star['Coordinates'][:,1])\n",
    "z_star = np.array(f_star['Coordinates'][:,2])\n",
    "vx_star = np.array(f_star['Velocities'][:,0])\n",
    "vy_star = np.array(f_star['Velocities'][:,1])\n",
    "vz_star = np.array(f_star['Velocities'][:,2])\n",
    "m_star = np.array(f_star['Masses'])\n",
    "\n",
    "x_new_star, y_new_star, z_new_star = shift_com(m=m_star, x=x_star, y=y_star, z=z_star)\n",
    "vx_new_star, vy_new_star, vz_new_star = shift_com(m=m_star, x=vx_star, y=vy_star, z=vz_star)\n",
    "\n",
    "#gas\n",
    "x_gas = np.array(f_gas['Coordinates'][:,0])\n",
    "y_gas = np.array(f_gas['Coordinates'][:,1])\n",
    "z_gas = np.array(f_gas['Coordinates'][:,2])\n",
    "vx_gas = np.array(f_gas['Velocities'][:,0])\n",
    "vy_gas = np.array(f_gas['Velocities'][:,1])\n",
    "vz_gas = np.array(f_gas['Velocities'][:,2])\n",
    "m_gas = np.array(f_gas['Masses'])\n",
    "\n",
    "x_new_gas, y_new_gas, z_new_gas = shift_com(m=m_gas, x=x_gas, y=y_gas, z=z_gas)\n",
    "vx_new_gas, vy_new_gas, vz_new_gas = shift_com(m=m_gas, x=vx_gas, y=vy_gas, z=vz_gas)"
   ]
  },
  {
   "cell_type": "code",
   "execution_count": 36,
   "id": "bbb44dd7-0844-43dd-ba2d-d0de903376f6",
   "metadata": {},
   "outputs": [],
   "source": [
    "f_disk['Coordinates'][:,0] = x_new_disk\n",
    "f_disk['Coordinates'][:,1] = y_new_disk\n",
    "f_disk['Coordinates'][:,2] = z_new_disk\n",
    "f_disk['Velocities'][:,0] = vx_new_disk\n",
    "f_disk['Velocities'][:,1] = vy_new_disk\n",
    "f_disk['Velocities'][:,2] = vz_new_disk\n",
    "\n",
    "f_halo['Coordinates'][:,0] = x_new_halo\n",
    "f_halo['Coordinates'][:,1] = y_new_halo\n",
    "f_halo['Coordinates'][:,2] = z_new_halo\n",
    "f_halo['Velocities'][:,0] = vx_new_halo\n",
    "f_halo['Velocities'][:,1] = vy_new_halo\n",
    "f_halo['Velocities'][:,2] = vz_new_halo\n",
    "\n",
    "f_bulge['Coordinates'][:,0] = x_new_bulge\n",
    "f_bulge['Coordinates'][:,1] = y_new_bulge\n",
    "f_bulge['Coordinates'][:,2] = z_new_bulge\n",
    "f_bulge['Velocities'][:,0] = vx_new_bulge\n",
    "f_bulge['Velocities'][:,1] = vy_new_bulge\n",
    "f_bulge['Velocities'][:,2] = vz_new_bulge\n",
    "\n",
    "f_star['Coordinates'][:,0] = x_new_star\n",
    "f_star['Coordinates'][:,1] = y_new_star\n",
    "f_star['Coordinates'][:,2] = z_new_star\n",
    "f_star['Velocities'][:,0] = vx_new_star\n",
    "f_star['Velocities'][:,1] = vy_new_star\n",
    "f_star['Velocities'][:,2] = vz_new_star\n",
    "\n",
    "f_gas['Coordinates'][:,0] = x_new_gas\n",
    "f_gas['Coordinates'][:,1] = y_new_gas\n",
    "f_gas['Coordinates'][:,2] = z_new_gas\n",
    "f_gas['Velocities'][:,0] = vx_new_gas\n",
    "f_gas['Velocities'][:,1] = vy_new_gas\n",
    "f_gas['Velocities'][:,2] = vz_new_gas"
   ]
  },
  {
   "cell_type": "code",
   "execution_count": 37,
   "id": "388af4c9",
   "metadata": {},
   "outputs": [],
   "source": [
    "file.close()"
   ]
  },
  {
   "cell_type": "code",
   "execution_count": null,
   "id": "0d9dcc60-aaba-4c8a-80df-77412befc917",
   "metadata": {},
   "outputs": [],
   "source": []
  },
  {
   "cell_type": "code",
   "execution_count": null,
   "id": "6ebee25d-2c47-4762-8654-b033b38167c2",
   "metadata": {},
   "outputs": [],
   "source": []
  },
  {
   "cell_type": "code",
   "execution_count": null,
   "id": "98d537fa-3f9c-48f4-8691-6edb5ff1a7bf",
   "metadata": {},
   "outputs": [],
   "source": []
  },
  {
   "cell_type": "code",
   "execution_count": null,
   "id": "b08a0206-79c2-4319-8cd5-16e0008eeaab",
   "metadata": {},
   "outputs": [],
   "source": []
  },
  {
   "cell_type": "code",
   "execution_count": 15,
   "id": "323565de-697e-461e-b4c6-7dbc2cc14c0e",
   "metadata": {},
   "outputs": [],
   "source": [
    "f = h5py.File('snapshot_160_b.hdf5', 'r')"
   ]
  },
  {
   "cell_type": "code",
   "execution_count": null,
   "id": "aa595178-e978-46ce-9e7a-a6ea17cf1620",
   "metadata": {},
   "outputs": [],
   "source": []
  },
  {
   "cell_type": "code",
   "execution_count": null,
   "id": "58ca6e7a-3878-4a81-9c70-87e1f52f918b",
   "metadata": {},
   "outputs": [],
   "source": []
  },
  {
   "cell_type": "code",
   "execution_count": null,
   "id": "2e21c1f6-121e-4d30-a153-a0539260aa21",
   "metadata": {},
   "outputs": [],
   "source": []
  }
 ],
 "metadata": {
  "kernelspec": {
   "display_name": "Python 3",
   "language": "python",
   "name": "python3"
  },
  "language_info": {
   "codemirror_mode": {
    "name": "ipython",
    "version": 3
   },
   "file_extension": ".py",
   "mimetype": "text/x-python",
   "name": "python",
   "nbconvert_exporter": "python",
   "pygments_lexer": "ipython3",
   "version": "3.6.9"
  }
 },
 "nbformat": 4,
 "nbformat_minor": 5
}
