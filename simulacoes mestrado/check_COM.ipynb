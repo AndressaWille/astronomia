{
 "cells": [
  {
   "cell_type": "code",
   "execution_count": 1,
   "id": "33aa4632-5af7-4b28-9453-70a91d46c21b",
   "metadata": {},
   "outputs": [],
   "source": [
    "import matplotlib.pyplot as plt\n",
    "import h5py\n",
    "import numpy as np"
   ]
  },
  {
   "cell_type": "code",
   "execution_count": 2,
   "id": "c3438bb0-18d0-4a1f-9628-c5a5ad2cb8bd",
   "metadata": {},
   "outputs": [],
   "source": [
    "file = h5py.File('../simulations/snapshotJoiner/snapshot_160_nb.hdf5', 'r')"
   ]
  },
  {
   "cell_type": "code",
   "execution_count": 4,
   "id": "3022b583-3979-4253-9943-8a7932467dea",
   "metadata": {},
   "outputs": [
    {
     "name": "stdout",
     "output_type": "stream",
     "text": [
      "Centro de massa da galáxia barrada em 8 Gyr:\n",
      "x = -0.0 kpc\n",
      "y = -0.0 kpc\n",
      "z = -0.0 kpc\n",
      "vx = 0.0 km/s\n",
      "vy = -0.0 km/s\n",
      "vz = 0.0 km/s \n",
      "\n"
     ]
    }
   ],
   "source": [
    "time = round(file['Header'].attrs['Time'], 2)\n",
    "    \n",
    "#ler info\n",
    "f_gas = file['PartType0']\n",
    "f_halo = file['PartType1']\n",
    "f_disk = file['PartType2']\n",
    "f_bulge = file['PartType3']\n",
    "#f_star = f['PartType4']\n",
    "\n",
    "x = np.concatenate((f_halo['Coordinates'][:,0], f_disk['Coordinates'][:,0], f_bulge['Coordinates'][:,0]))\n",
    "y = np.concatenate((f_halo['Coordinates'][:,1], f_disk['Coordinates'][:,1], f_bulge['Coordinates'][:,1]))\n",
    "z = np.concatenate((f_halo['Coordinates'][:,2], f_disk['Coordinates'][:,2], f_bulge['Coordinates'][:,2]))\n",
    "m = np.concatenate((f_halo['Masses'], f_disk['Masses'], f_bulge['Masses']))\n",
    "    \n",
    "cm_x = sum(m*x)/sum(m)\n",
    "cm_y = sum(m*y)/sum(m)\n",
    "cm_z = sum(m*z)/sum(m)\n",
    "    \n",
    "vx = np.concatenate((f_halo['Velocities'][:,0], f_disk['Velocities'][:,0], f_bulge['Velocities'][:,0]))\n",
    "vy = np.concatenate((f_halo['Velocities'][:,1], f_disk['Velocities'][:,1], f_bulge['Velocities'][:,1]))\n",
    "vz = np.concatenate((f_halo['Velocities'][:,2], f_disk['Velocities'][:,2], f_bulge['Velocities'][:,2]))\n",
    "    \n",
    "cm_vx = sum(m*vx)/sum(m)\n",
    "cm_vy = sum(m*vy)/sum(m)\n",
    "cm_vz = sum(m*vz)/sum(m)\n",
    "\n",
    "print(f'Centro de massa da galáxia barrada em 8 Gyr:')\n",
    "print(f'x = {round(cm_x,4)} kpc\\ny = {round(cm_y,4)} kpc\\nz = {round(cm_z,4)} kpc')\n",
    "print(f'vx = {round(cm_vx,4)} km/s\\nvy = {round(cm_vy,4)} km/s\\nvz = {round(cm_vz,4)} km/s \\n')"
   ]
  },
  {
   "cell_type": "code",
   "execution_count": null,
   "id": "5cef1d34-f5f2-42d0-9756-bad6601cabb8",
   "metadata": {},
   "outputs": [],
   "source": []
  },
  {
   "cell_type": "code",
   "execution_count": null,
   "id": "84f684d8-b1f8-4cd9-94ff-458634c74879",
   "metadata": {},
   "outputs": [],
   "source": []
  }
 ],
 "metadata": {
  "kernelspec": {
   "display_name": "Python 3",
   "language": "python",
   "name": "python3"
  },
  "language_info": {
   "codemirror_mode": {
    "name": "ipython",
    "version": 3
   },
   "file_extension": ".py",
   "mimetype": "text/x-python",
   "name": "python",
   "nbconvert_exporter": "python",
   "pygments_lexer": "ipython3",
   "version": "3.6.9"
  }
 },
 "nbformat": 4,
 "nbformat_minor": 5
}
