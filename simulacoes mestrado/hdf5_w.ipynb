{
 "cells": [
  {
   "cell_type": "markdown",
   "id": "b3b6167b-10d6-4bb7-92a6-c3263bdc98ff",
   "metadata": {},
   "source": [
    "### Reescrever snapshot hdf5\n",
    "\n",
    "Apagar partículas de gás"
   ]
  },
  {
   "cell_type": "code",
   "execution_count": 1,
   "id": "d5029081",
   "metadata": {},
   "outputs": [],
   "source": [
    "import h5py\n",
    "import numpy as np"
   ]
  },
  {
   "cell_type": "code",
   "execution_count": 2,
   "id": "5317149a",
   "metadata": {},
   "outputs": [
    {
     "data": {
      "text/plain": [
       "<KeysViewHDF5 ['Config', 'Header', 'Parameters', 'PartType0', 'PartType1', 'PartType2', 'PartType3', 'PartType4', 'PartType5']>"
      ]
     },
     "execution_count": 2,
     "metadata": {},
     "output_type": "execute_result"
    }
   ],
   "source": [
    "#snapshot a ser copiado\n",
    "file = h5py.File('snapshot_000.hdf5', 'r+')\n",
    "file.keys()"
   ]
  },
  {
   "cell_type": "code",
   "execution_count": 3,
   "id": "f0c5cfe7-f7a8-4f2c-adfa-14dc975894d4",
   "metadata": {},
   "outputs": [
    {
     "name": "stdout",
     "output_type": "stream",
     "text": [
      "[  30715 1000000  160000   40000  169285    6500]\n",
      "[  30715 1000000  160000   40000  169285    6500]\n"
     ]
    }
   ],
   "source": [
    "#ver número de cada tipo de patícula\n",
    "print(file['Header'].attrs['NumPart_ThisFile'])\n",
    "print(file['Header'].attrs['NumPart_Total'])"
   ]
  },
  {
   "cell_type": "code",
   "execution_count": 4,
   "id": "1fedf835-2ea2-45a6-86fb-29a930c9788e",
   "metadata": {},
   "outputs": [],
   "source": [
    "#alterar número e substituir\n",
    "#reescreve o original!\n",
    "numpart_file = np.array([0, 1000000, 160000, 40000, 169285, 6500], dtype=np.uint64)\n",
    "file['Header'].attrs['NumPart_ThisFile'] = numpart_file \n",
    "file['Header'].attrs['NumPart_Total'] = numpart_file "
   ]
  },
  {
   "cell_type": "code",
   "execution_count": 5,
   "id": "2e461200-166b-4be6-a2ca-36b7ee921ef1",
   "metadata": {},
   "outputs": [
    {
     "name": "stdout",
     "output_type": "stream",
     "text": [
      "[      0 1000000  160000   40000  169285    6500]\n",
      "[      0 1000000  160000   40000  169285    6500]\n"
     ]
    }
   ],
   "source": [
    "#verificação\n",
    "print(file['Header'].attrs['NumPart_ThisFile'])\n",
    "print(file['Header'].attrs['NumPart_Total'])"
   ]
  },
  {
   "cell_type": "code",
   "execution_count": 6,
   "id": "101fe8f7-1040-4df1-9cc7-1e9c92b48757",
   "metadata": {},
   "outputs": [],
   "source": [
    "#escrever novo arquivo\n",
    "file2 = h5py.File('teste2.hdf5', 'w')"
   ]
  },
  {
   "cell_type": "code",
   "execution_count": 7,
   "id": "6e0ef49b-8865-4b84-b4ba-3fdd1aec5142",
   "metadata": {},
   "outputs": [],
   "source": [
    "#copiar grupos que farão parte do novo arquivo, ignorando os que não serã necessários\n",
    "file.copy('Config', file2)\n",
    "file.copy('Header', file2)\n",
    "file.copy('Parameters', file2)\n",
    "file.copy('PartType1', file2)\n",
    "file.copy('PartType2', file2)\n",
    "file.copy('PartType3', file2)\n",
    "file.copy('PartType4', file2)\n",
    "file.copy('PartType5', file2)"
   ]
  },
  {
   "cell_type": "code",
   "execution_count": 8,
   "id": "2d845825-a99f-4bbc-958b-7c07fb3d48be",
   "metadata": {},
   "outputs": [
    {
     "name": "stdout",
     "output_type": "stream",
     "text": [
      "<KeysViewHDF5 ['Config', 'Header', 'Parameters', 'PartType1', 'PartType2', 'PartType3', 'PartType4', 'PartType5']>\n",
      "<KeysViewHDF5 ['Coordinates', 'Masses', 'Metallicity', 'ParticleIDs', 'StellarFormationTime', 'Velocities']>\n"
     ]
    }
   ],
   "source": [
    "#verificação\n",
    "print(file2.keys())\n",
    "print(file2['PartType2'].keys())"
   ]
  },
  {
   "cell_type": "code",
   "execution_count": 9,
   "id": "226c888c-0ccb-40e6-bb19-3d2c92eb5365",
   "metadata": {},
   "outputs": [],
   "source": [
    "file.close()"
   ]
  },
  {
   "cell_type": "code",
   "execution_count": 10,
   "id": "e3a25a44-9716-44d7-bb2d-088a1c4be371",
   "metadata": {},
   "outputs": [],
   "source": [
    "file2.close()"
   ]
  }
 ],
 "metadata": {
  "kernelspec": {
   "display_name": "Python 3",
   "language": "python",
   "name": "python3"
  },
  "language_info": {
   "codemirror_mode": {
    "name": "ipython",
    "version": 3
   },
   "file_extension": ".py",
   "mimetype": "text/x-python",
   "name": "python",
   "nbconvert_exporter": "python",
   "pygments_lexer": "ipython3",
   "version": "3.6.9"
  }
 },
 "nbformat": 4,
 "nbformat_minor": 5
}
