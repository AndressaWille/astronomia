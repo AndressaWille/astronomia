{
 "cells": [
  {
   "cell_type": "markdown",
   "id": "bdee047e-84d5-4455-b38a-e839e896da8c",
   "metadata": {},
   "source": [
    "### Reescrever snapshot hdf5\n",
    "\n",
    "Substituindo partículas de gás por partículas de disco"
   ]
  },
  {
   "cell_type": "code",
   "execution_count": 1,
   "id": "d5029081",
   "metadata": {},
   "outputs": [],
   "source": [
    "import h5py\n",
    "import numpy as np"
   ]
  },
  {
   "cell_type": "code",
   "execution_count": 2,
   "id": "5317149a",
   "metadata": {},
   "outputs": [
    {
     "data": {
      "text/plain": [
       "<KeysViewHDF5 ['Config', 'Header', 'Parameters', 'PartType0', 'PartType1', 'PartType2', 'PartType3', 'PartType4', 'PartType5']>"
      ]
     },
     "execution_count": 2,
     "metadata": {},
     "output_type": "execute_result"
    }
   ],
   "source": [
    "#snapshot a ser copiado\n",
    "file = h5py.File('snapshot_000.hdf5', 'r+')\n",
    "file.keys()"
   ]
  },
  {
   "cell_type": "code",
   "execution_count": 3,
   "id": "f0c5cfe7-f7a8-4f2c-adfa-14dc975894d4",
   "metadata": {},
   "outputs": [
    {
     "name": "stdout",
     "output_type": "stream",
     "text": [
      "[  30715 1000000  160000   40000  169285    6500]\n",
      "[  30715 1000000  160000   40000  169285    6500]\n"
     ]
    }
   ],
   "source": [
    "#ver número de cada tipo de patícula\n",
    "print(file['Header'].attrs['NumPart_ThisFile'])\n",
    "print(file['Header'].attrs['NumPart_Total'])"
   ]
  },
  {
   "cell_type": "code",
   "execution_count": 4,
   "id": "c94d06cb-6f2a-418f-a82f-371303464394",
   "metadata": {},
   "outputs": [
    {
     "data": {
      "text/plain": [
       "190715"
      ]
     },
     "execution_count": 4,
     "metadata": {},
     "output_type": "execute_result"
    }
   ],
   "source": [
    "160000+30715"
   ]
  },
  {
   "cell_type": "code",
   "execution_count": 5,
   "id": "1fedf835-2ea2-45a6-86fb-29a930c9788e",
   "metadata": {},
   "outputs": [],
   "source": [
    "#alterar número e substituir\n",
    "#reescreve o original!\n",
    "numpart_file = np.array([0, 1000000, 190715, 40000, 169285, 6500], dtype=np.uint64)\n",
    "file['Header'].attrs['NumPart_ThisFile'] = numpart_file \n",
    "file['Header'].attrs['NumPart_Total'] = numpart_file "
   ]
  },
  {
   "cell_type": "code",
   "execution_count": 6,
   "id": "2e461200-166b-4be6-a2ca-36b7ee921ef1",
   "metadata": {},
   "outputs": [
    {
     "name": "stdout",
     "output_type": "stream",
     "text": [
      "[      0 1000000  190715   40000  169285    6500]\n",
      "[      0 1000000  190715   40000  169285    6500]\n"
     ]
    }
   ],
   "source": [
    "#verificação\n",
    "print(file['Header'].attrs['NumPart_ThisFile'])\n",
    "print(file['Header'].attrs['NumPart_Total'])"
   ]
  },
  {
   "cell_type": "code",
   "execution_count": 7,
   "id": "ca952654-5dbc-4481-b7c8-245b30316027",
   "metadata": {},
   "outputs": [],
   "source": [
    "f_gas = file['PartType0']\n",
    "f_halo = file['PartType1']\n",
    "f_disk = file['PartType2']\n",
    "f_bulge = file['PartType3']\n",
    "f_star = file['PartType4']\n",
    "f_bndry = file['PartType5']"
   ]
  },
  {
   "cell_type": "code",
   "execution_count": 8,
   "id": "82746771-6d77-4df0-a80b-b856834b6347",
   "metadata": {},
   "outputs": [],
   "source": [
    "# #disk\n",
    "# x_disk = np.array(f_disk['Coordinates'][:,0])\n",
    "# y_disk = np.array(f_disk['Coordinates'][:,1])\n",
    "# z_disk = np.array(f_disk['Coordinates'][:,2])\n",
    "# vx_disk = np.array(f_disk['Velocities'][:,0])\n",
    "# vy_disk = np.array(f_disk['Velocities'][:,1])\n",
    "# vz_disk = np.array(f_disk['Velocities'][:,2])\n",
    "# m_disk = np.array(f_disk['Masses'])\n",
    "# n_disk = np.array(f_disk['ParticleIDs'])\n",
    "\n",
    "# x_gas = np.array(f_gas['Coordinates'][:,0])\n",
    "# y_gas = np.array(f_gas['Coordinates'][:,1])\n",
    "# z_gas = np.array(f_gas['Coordinates'][:,2])\n",
    "# vx_gas = np.array(f_gas['Velocities'][:,0])\n",
    "# vy_gas = np.array(f_gas['Velocities'][:,1])\n",
    "# vz_gas = np.array(f_gas['Velocities'][:,2])\n",
    "# m_gas = np.array(f_gas['Masses'])\n",
    "# n_gas = np.array(f_gas['ParticleIDs'])"
   ]
  },
  {
   "cell_type": "code",
   "execution_count": 9,
   "id": "62d52fa4-f35c-4d29-92e9-a240540f8929",
   "metadata": {},
   "outputs": [],
   "source": [
    "#concatenar gas e disk\n",
    "x = np.concatenate((f_disk['Coordinates'][:,0], f_gas['Coordinates'][:,0]))\n",
    "y = np.concatenate((f_disk['Coordinates'][:,1], f_gas['Coordinates'][:,1]))\n",
    "z = np.concatenate((f_disk['Coordinates'][:,2], f_gas['Coordinates'][:,2]))\n",
    "\n",
    "vx = np.concatenate((f_disk['Velocities'][:,0], f_gas['Velocities'][:,0]))\n",
    "vy = np.concatenate((f_disk['Velocities'][:,1], f_gas['Velocities'][:,1]))\n",
    "vz = np.concatenate((f_disk['Velocities'][:,2], f_gas['Velocities'][:,2]))\n",
    "\n",
    "m = np.concatenate((f_disk['Masses'], f_gas['Masses']))\n",
    "n = np.concatenate((f_disk['ParticleIDs'], f_gas['ParticleIDs']))"
   ]
  },
  {
   "cell_type": "code",
   "execution_count": 10,
   "id": "101fe8f7-1040-4df1-9cc7-1e9c92b48757",
   "metadata": {},
   "outputs": [],
   "source": [
    "#escrever novo arquivo\n",
    "file2 = h5py.File('teste3.hdf5', 'w')"
   ]
  },
  {
   "cell_type": "code",
   "execution_count": 11,
   "id": "6e0ef49b-8865-4b84-b4ba-3fdd1aec5142",
   "metadata": {},
   "outputs": [],
   "source": [
    "#copiar grupos que farão parte do novo arquivo, ignorando os que não serão necessários\n",
    "file.copy('Config', file2)\n",
    "file.copy('Header', file2)\n",
    "file.copy('Parameters', file2)\n",
    "file.copy('PartType1', file2)\n",
    "file.copy('PartType3', file2)\n",
    "file.copy('PartType4', file2)\n",
    "file.copy('PartType5', file2)"
   ]
  },
  {
   "cell_type": "code",
   "execution_count": 12,
   "id": "500d3866-8ec7-42cc-8b5c-77539c0121dc",
   "metadata": {},
   "outputs": [
    {
     "data": {
      "text/plain": [
       "<HDF5 group \"/PartType2\" (0 members)>"
      ]
     },
     "execution_count": 12,
     "metadata": {},
     "output_type": "execute_result"
    }
   ],
   "source": [
    "#criar grupo disk\n",
    "file2.create_group('PartType2')"
   ]
  },
  {
   "cell_type": "code",
   "execution_count": 15,
   "id": "6f874d82-4afe-43cf-b63d-69d8e4ab8bb7",
   "metadata": {},
   "outputs": [
    {
     "data": {
      "text/plain": [
       "<KeysViewHDF5 ['Coordinates', 'Masses', 'ParticleIDs', 'Velocities']>"
      ]
     },
     "execution_count": 15,
     "metadata": {},
     "output_type": "execute_result"
    }
   ],
   "source": [
    "file2['PartType2'].keys()"
   ]
  },
  {
   "cell_type": "code",
   "execution_count": 14,
   "id": "3e10c3a9-dff2-4367-9bd8-e238729571fa",
   "metadata": {},
   "outputs": [
    {
     "data": {
      "text/plain": [
       "<HDF5 dataset \"Velocities\": shape (190715, 3), type \"<f4\">"
      ]
     },
     "execution_count": 14,
     "metadata": {},
     "output_type": "execute_result"
    }
   ],
   "source": [
    "#criar datasets para o grupo disk\n",
    "file2['PartType2'].create_dataset('ParticleIDs', data=n)\n",
    "file2['PartType2'].create_dataset('Masses', data=m)\n",
    "file2['PartType2'].create_dataset('Coordinates', data=np.array([x,y,z]).T)\n",
    "file2['PartType2'].create_dataset('Velocities', data=np.array([vx,vy,vz]).T)"
   ]
  },
  {
   "cell_type": "code",
   "execution_count": 18,
   "id": "2d845825-a99f-4bbc-958b-7c07fb3d48be",
   "metadata": {},
   "outputs": [
    {
     "name": "stdout",
     "output_type": "stream",
     "text": [
      "<KeysViewHDF5 ['Config', 'Header', 'Parameters', 'PartType1', 'PartType2', 'PartType3', 'PartType4', 'PartType5']>\n",
      "[[ -76.38782   -157.6146      -4.909666 ]\n",
      " [ -74.407585  -115.570496   -23.145695 ]\n",
      " [-182.18864    -75.20026    -20.134573 ]\n",
      " ...\n",
      " [ 142.23245     -6.954377    -4.665039 ]\n",
      " [  94.89494     56.318153     2.7505937]\n",
      " [ 107.246056   -38.65506      7.9782057]]\n"
     ]
    }
   ],
   "source": [
    "#verificação\n",
    "print(file2.keys())\n",
    "print(np.array(file2['PartType2']['Velocities']))"
   ]
  },
  {
   "cell_type": "code",
   "execution_count": 19,
   "id": "226c888c-0ccb-40e6-bb19-3d2c92eb5365",
   "metadata": {},
   "outputs": [],
   "source": [
    "file.close()"
   ]
  },
  {
   "cell_type": "code",
   "execution_count": 20,
   "id": "e3a25a44-9716-44d7-bb2d-088a1c4be371",
   "metadata": {},
   "outputs": [],
   "source": [
    "file2.close()"
   ]
  },
  {
   "cell_type": "code",
   "execution_count": null,
   "id": "d9afe872-3302-47e5-bac2-00056059ab7d",
   "metadata": {},
   "outputs": [],
   "source": []
  }
 ],
 "metadata": {
  "kernelspec": {
   "display_name": "Python 3",
   "language": "python",
   "name": "python3"
  },
  "language_info": {
   "codemirror_mode": {
    "name": "ipython",
    "version": 3
   },
   "file_extension": ".py",
   "mimetype": "text/x-python",
   "name": "python",
   "nbconvert_exporter": "python",
   "pygments_lexer": "ipython3",
   "version": "3.6.9"
  }
 },
 "nbformat": 4,
 "nbformat_minor": 5
}
